{
 "cells": [
  {
   "cell_type": "markdown",
   "id": "642a2c31",
   "metadata": {
    "deletable": false,
    "editable": false
   },
   "source": [
    "# Blatt 9 - Scratchpad"
   ]
  },
  {
   "cell_type": "markdown",
   "id": "ee7e5058",
   "metadata": {
    "deletable": false,
    "editable": false
   },
   "source": [
    "Nutzen Sie dieses Notebook, um ihre Lösungen zu den Aufgaben auf diesem Übungsblatt interaktiv zu entwickeln und zu testen.\n",
    "Denken Sie auch daran, den Debugger zu nutzen, um Fehler zu identifizieren.\n",
    "\n",
    ":::{important}\n",
    "\n",
    "Vergessen Sie nicht, Ihre fertigen Lösungen in das Modul der jeweiligen Aufgabe einzufügen.\n",
    "Dieses Notebook wird nicht mit abgegeben!\n",
    "\n",
    ":::\n",
    "\n",
    "Führen Sie folgende Zelle aus, um `autoreload` zu aktivieren:"
   ]
  },
  {
   "cell_type": "code",
   "execution_count": null,
   "id": "fa1676cf",
   "metadata": {},
   "outputs": [],
   "source": [
    "%load_ext autoreload\n",
    "%autoreload 2"
   ]
  },
  {
   "cell_type": "markdown",
   "id": "5555e6dd",
   "metadata": {
    "deletable": false,
    "editable": false
   },
   "source": [
    "## Automatische Testsuite"
   ]
  },
  {
   "cell_type": "markdown",
   "id": "d140983a",
   "metadata": {
    "deletable": false,
    "editable": false
   },
   "source": [
    "Wenn Ihre Implementierung fertig ist, können Sie die folgende Zelle ausführen, um die automatischen Tests auszuführen und Feedback zu erhalten.\n",
    "\n",
    "Um nur bestimmte Aufgaben oder Teilaufgaben zu prüfen, übergeben Sie deren IDs (`\"1\"`, `\"2b\"`, ...) an `jupyter_run_tests`; z.B.\n",
    "\n",
    "```{code-block} python\n",
    "jupyter_run_tests(\"1a\", \"1b\", \"2\")\n",
    "```\n",
    "\n",
    ":::{note}\n",
    "Denken Sie daran, dass das Bestehen der öffentlichen Testfälle nicht unbedingt ausreicht,\n",
    "um die Punkte für eine Teilaufgabe zu erhalten - \n",
    "Ihre Implementierung muss dafür auch eine Reihe nicht-öffentlicher Tests bestehen.\n",
    ":::"
   ]
  },
  {
   "cell_type": "code",
   "execution_count": null,
   "id": "4ecbc09f",
   "metadata": {},
   "outputs": [],
   "source": [
    "from blatt09_tests import jupyter_run_tests\n",
    "\n",
    "# Testsuite ausführen\n",
    "jupyter_run_tests()"
   ]
  },
  {
   "cell_type": "markdown",
   "id": "f94f0bf0",
   "metadata": {
    "deletable": false,
    "editable": false
   },
   "source": [
    "## Aufgabe 1 - Dünnbesetzte Lineare Algebra"
   ]
  },
  {
   "cell_type": "markdown",
   "id": "23ebdfd1",
   "metadata": {
    "deletable": false,
    "editable": false
   },
   "source": [
    "Nutzen Sie die folgenden Zellen, um Ihre Implementierungen interaktiv zu testen."
   ]
  },
  {
   "cell_type": "code",
   "execution_count": null,
   "id": "f19358ab",
   "metadata": {},
   "outputs": [],
   "source": []
  },
  {
   "cell_type": "code",
   "execution_count": null,
   "id": "9af7dfd4",
   "metadata": {},
   "outputs": [],
   "source": []
  },
  {
   "cell_type": "code",
   "execution_count": null,
   "id": "f818075b",
   "metadata": {},
   "outputs": [],
   "source": []
  },
  {
   "cell_type": "markdown",
   "id": "840a4a8e",
   "metadata": {
    "deletable": false,
    "editable": false
   },
   "source": [
    "## Aufgabe 2 - Poisson-Randwertproblem"
   ]
  },
  {
   "cell_type": "markdown",
   "id": "54510793",
   "metadata": {
    "deletable": false,
    "editable": false
   },
   "source": [
    "Nutzen Sie die folgenden Zellen, um Ihre Implementierungen interaktiv zu testen."
   ]
  },
  {
   "cell_type": "code",
   "execution_count": null,
   "id": "3440e7f1",
   "metadata": {},
   "outputs": [],
   "source": []
  },
  {
   "cell_type": "code",
   "execution_count": null,
   "id": "1d7db4da",
   "metadata": {},
   "outputs": [],
   "source": []
  },
  {
   "cell_type": "code",
   "execution_count": null,
   "id": "26dbfb6e",
   "metadata": {},
   "outputs": [],
   "source": []
  },
  {
   "cell_type": "markdown",
   "id": "76ccae4f",
   "metadata": {
    "deletable": false,
    "editable": false
   },
   "source": [
    "Mithilfe der folgenden Zelle können Sie die Wirkung ihrer Implementierung visualisieren."
   ]
  },
  {
   "cell_type": "code",
   "execution_count": null,
   "id": "c78b380f",
   "metadata": {},
   "outputs": [],
   "source": [
    "from poisson import solve_poisson\n",
    "import numpy as np\n",
    "import matplotlib.pyplot as plt\n",
    "\n",
    "N = 34\n",
    "\n",
    "def f(x, y):\n",
    "    return np.pi**2 * (4 * np.sin(2 * np.pi * x) + 16 * np.cos(4 * np.pi * y))\n",
    "\n",
    "def phi(x, y):\n",
    "    return np.sin(2 * np.pi * x) + np.cos(4 * np.pi * y)\n",
    "\n",
    "u_field = solve_poisson(N, f, phi)\n",
    "\n",
    "fig, ax = plt.subplots(subplot_kw={\"projection\": \"3d\"})\n",
    "X = np.linspace(0, 1, N)\n",
    "Y = np.linspace(0, 1, N)\n",
    "X, Y = np.meshgrid(X, Y)\n",
    "\n",
    "ax.set_xlabel(\"x\")\n",
    "ax.set_ylabel(\"y\")\n",
    "ax.set_zlabel(\"u\")\n",
    "ax.plot_surface(X, Y, u_field)\n",
    "\n",
    "plt.show()"
   ]
  }
 ],
 "metadata": {
  "jupytext": {
   "default_lexer": "ipython3"
  },
  "kernelspec": {
   "display_name": "Python 3 (ipykernel)",
   "language": "python",
   "name": "python3"
  }
 },
 "nbformat": 4,
 "nbformat_minor": 5
}