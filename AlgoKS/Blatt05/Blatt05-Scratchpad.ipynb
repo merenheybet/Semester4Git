{
 "cells": [
  {
   "cell_type": "markdown",
   "id": "59f733c3",
   "metadata": {
    "deletable": false,
    "editable": false
   },
   "source": [
    "# Blatt 5 - Scratchpad"
   ]
  },
  {
   "cell_type": "markdown",
   "id": "b6cde648",
   "metadata": {
    "deletable": false,
    "editable": false
   },
   "source": [
    "Nutzen Sie dieses Notebook, um ihre Lösungen zu den Aufgaben auf diesem Übungsblatt interaktiv zu entwickeln und zu testen.\n",
    "Denken Sie auch daran, den Debugger zu nutzen, um Fehler zu identifizieren.\n",
    "\n",
    ":::{important}\n",
    "\n",
    "Vergessen Sie nicht, Ihre fertigen Lösungen in das Modul der jeweiligen Aufgabe einzufügen.\n",
    "Dieses Notebook wird nicht mit abgegeben!\n",
    "\n",
    ":::\n",
    "\n",
    "Führen Sie folgende Zelle aus, um `autoreload` zu aktivieren:"
   ]
  },
  {
   "cell_type": "code",
   "execution_count": null,
   "id": "46f0dbce",
   "metadata": {},
   "outputs": [],
   "source": [
    "%load_ext autoreload\n",
    "%autoreload 2"
   ]
  },
  {
   "cell_type": "markdown",
   "id": "4c195776",
   "metadata": {
    "deletable": false,
    "editable": false
   },
   "source": [
    "## Automatische Testsuite"
   ]
  },
  {
   "cell_type": "markdown",
   "id": "fb9b8c28",
   "metadata": {
    "deletable": false,
    "editable": false
   },
   "source": [
    "Wenn Ihre Implementierung fertig ist, können Sie die folgende Zelle ausführen, um die automatischen Tests auszuführen und Feedback zu erhalten.\n",
    "\n",
    "Um nur bestimmte Aufgaben oder Teilaufgaben zu prüfen, übergeben Sie deren IDs (`\"1\"`, `\"2b\"`, ...) an `jupyter_run_tests`; z.B.\n",
    "\n",
    "```{code-block} python\n",
    "jupyter_run_tests(\"1a\", \"1b\", \"2\")\n",
    "```\n",
    "\n",
    ":::{note}\n",
    "Denken Sie daran, dass das Bestehen der öffentlichen Testfälle nicht unbedingt ausreicht,\n",
    "um die Punkte für eine Teilaufgabe zu erhalten - \n",
    "Ihre Implementierung muss dafür auch eine Reihe nicht-öffentlicher Tests bestehen.\n",
    ":::"
   ]
  },
  {
   "cell_type": "code",
   "execution_count": null,
   "id": "593c9afc",
   "metadata": {},
   "outputs": [],
   "source": [
    "from blatt05_tests import jupyter_run_tests\n",
    "\n",
    "# Testsuite ausführen\n",
    "jupyter_run_tests()"
   ]
  },
  {
   "cell_type": "markdown",
   "id": "fccf2a13",
   "metadata": {
    "deletable": false,
    "editable": false
   },
   "source": [
    "## Aufgabe 1 - Hilfsfunktionen"
   ]
  },
  {
   "cell_type": "markdown",
   "id": "61268ad0",
   "metadata": {
    "deletable": false,
    "editable": false
   },
   "source": [
    "Nutzen Sie die folgenden Zellen und erstellen Sie ggf. weitere, um ihre Implementierungen zu dieser Aufgabe zu testen."
   ]
  },
  {
   "cell_type": "code",
   "execution_count": null,
   "id": "f8a45fa5",
   "metadata": {},
   "outputs": [],
   "source": []
  },
  {
   "cell_type": "code",
   "execution_count": null,
   "id": "fe4c5fd9",
   "metadata": {},
   "outputs": [],
   "source": []
  },
  {
   "cell_type": "code",
   "execution_count": null,
   "id": "03f0bdd5",
   "metadata": {},
   "outputs": [],
   "source": []
  },
  {
   "cell_type": "markdown",
   "id": "0212a178",
   "metadata": {
    "deletable": false,
    "editable": false
   },
   "source": [
    "## Aufgabe 2 - Median Cut"
   ]
  },
  {
   "cell_type": "markdown",
   "id": "45a3f317",
   "metadata": {
    "deletable": false,
    "editable": false
   },
   "source": [
    "Nutzen Sie die folgenden Zellen und erstellen Sie ggf. weitere, um ihre Implementierungen zu dieser Aufgabe zu testen."
   ]
  },
  {
   "cell_type": "code",
   "execution_count": null,
   "id": "2d1687a3",
   "metadata": {},
   "outputs": [],
   "source": []
  },
  {
   "cell_type": "code",
   "execution_count": null,
   "id": "13d24d6a",
   "metadata": {},
   "outputs": [],
   "source": []
  },
  {
   "cell_type": "code",
   "execution_count": null,
   "id": "a3789aa0",
   "metadata": {},
   "outputs": [],
   "source": []
  },
  {
   "cell_type": "markdown",
   "id": "32206fcd",
   "metadata": {
    "deletable": false,
    "editable": false
   },
   "source": [
    "Führen Sie die nächsten beiden Zellen aus, um ihre Implementierung des Median Cut-Algorithmus\n",
    "auf eigene Bilder anzuwenden."
   ]
  },
  {
   "cell_type": "code",
   "execution_count": null,
   "id": "311a9492",
   "metadata": {},
   "outputs": [],
   "source": [
    "def apply_median_cut(filename: str, num_cuts: int):\n",
    "    from imgutils import load_image\n",
    "    img = load_image(filename)\n",
    "\n",
    "    from mcut import median_cut\n",
    "    img_quantized = median_cut(img, num_cuts)\n",
    "\n",
    "    import matplotlib.pyplot as plt\n",
    "    fix, axes = plt.subplots(1, 2, figsize=(12, 4))\n",
    "\n",
    "    axes[0].set_title(\"Original\")\n",
    "    axes[0].imshow(img)\n",
    "    axes[1].set_title(\"Quantisiert\")\n",
    "    axes[1].imshow(img_quantized)"
   ]
  },
  {
   "cell_type": "code",
   "execution_count": null,
   "id": "d346ffb6",
   "metadata": {},
   "outputs": [],
   "source": [
    "fp = \"rrze.png\"\n",
    "num_cuts = 5\n",
    "apply_median_cut(fp, num_cuts)"
   ]
  },
  {
   "cell_type": "markdown",
   "id": "f8768290",
   "metadata": {
    "deletable": false,
    "editable": false
   },
   "source": [
    "## Aufgabe 3 - K-Means Clustering"
   ]
  },
  {
   "cell_type": "markdown",
   "id": "5e29508c",
   "metadata": {
    "deletable": false,
    "editable": false
   },
   "source": [
    "Nutzen Sie die folgenden Zellen und erstellen Sie ggf. weitere, um ihre Implementierungen zu dieser Aufgabe zu testen."
   ]
  },
  {
   "cell_type": "code",
   "execution_count": null,
   "id": "9b1e8fa7",
   "metadata": {},
   "outputs": [],
   "source": []
  },
  {
   "cell_type": "code",
   "execution_count": null,
   "id": "c3f7d142",
   "metadata": {},
   "outputs": [],
   "source": []
  },
  {
   "cell_type": "code",
   "execution_count": null,
   "id": "016a1b5f",
   "metadata": {},
   "outputs": [],
   "source": []
  },
  {
   "cell_type": "markdown",
   "id": "1f6bab5c",
   "metadata": {
    "deletable": false,
    "editable": false
   },
   "source": [
    "Führen Sie die nächsten beiden Zellen aus, um ihre Implementierung des KMeans-Algorithmus\n",
    "auf eigene Bilder anzuwenden."
   ]
  },
  {
   "cell_type": "code",
   "execution_count": null,
   "id": "e756e1c2",
   "metadata": {},
   "outputs": [],
   "source": [
    "def apply_kmeans(filename: str, num_clusters: int):\n",
    "    from imgutils import load_image\n",
    "    img = load_image(filename)\n",
    "\n",
    "    from kmeans import kmeans\n",
    "    img_quantized = kmeans(img, num_clusters)\n",
    "\n",
    "    import matplotlib.pyplot as plt\n",
    "    fix, axes = plt.subplots(1, 2, figsize=(12, 4))\n",
    "\n",
    "    axes[0].set_title(\"Original\")\n",
    "    axes[0].imshow(img)\n",
    "    axes[1].set_title(\"Quantisiert\")\n",
    "    axes[1].imshow(img_quantized)"
   ]
  },
  {
   "cell_type": "code",
   "execution_count": null,
   "id": "8e741e90",
   "metadata": {},
   "outputs": [],
   "source": [
    "fp = \"rrze.png\"\n",
    "num_clusters = 5\n",
    "apply_kmeans(fp, num_clusters)"
   ]
  }
 ],
 "metadata": {
  "jupytext": {
   "default_lexer": "ipython3"
  },
  "kernelspec": {
   "display_name": "Python 3 (ipykernel)",
   "language": "python",
   "name": "python3"
  }
 },
 "nbformat": 4,
 "nbformat_minor": 5
}