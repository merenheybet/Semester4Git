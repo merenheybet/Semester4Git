{
 "cells": [
  {
   "cell_type": "markdown",
   "id": "88e16da5",
   "metadata": {
    "deletable": false,
    "editable": false
   },
   "source": [
    "# Blatt 7 - Scratchpad"
   ]
  },
  {
   "cell_type": "markdown",
   "id": "71b57197",
   "metadata": {
    "deletable": false,
    "editable": false
   },
   "source": [
    "Nutzen Sie dieses Notebook, um ihre Lösungen zu den Aufgaben auf diesem Übungsblatt interaktiv zu entwickeln und zu testen.\n",
    "Denken Sie auch daran, den Debugger zu nutzen, um Fehler zu identifizieren.\n",
    "\n",
    ":::{important}\n",
    "\n",
    "Vergessen Sie nicht, Ihre fertigen Lösungen in das Modul der jeweiligen Aufgabe einzufügen.\n",
    "Dieses Notebook wird nicht mit abgegeben!\n",
    "\n",
    ":::\n",
    "\n",
    "Führen Sie folgende Zelle aus, um `autoreload` zu aktivieren:"
   ]
  },
  {
   "cell_type": "code",
   "execution_count": null,
   "id": "9d5ae85f",
   "metadata": {},
   "outputs": [],
   "source": [
    "%load_ext autoreload\n",
    "%autoreload 2"
   ]
  },
  {
   "cell_type": "markdown",
   "id": "e3366ca1",
   "metadata": {
    "deletable": false,
    "editable": false
   },
   "source": [
    "## Automatische Testsuite"
   ]
  },
  {
   "cell_type": "markdown",
   "id": "7c507837",
   "metadata": {
    "deletable": false,
    "editable": false
   },
   "source": [
    "Wenn Ihre Implementierung fertig ist, können Sie die folgende Zelle ausführen, um die automatischen Tests auszuführen und Feedback zu erhalten.\n",
    "\n",
    "Um nur bestimmte Aufgaben oder Teilaufgaben zu prüfen, übergeben Sie deren IDs (`\"1\"`, `\"2b\"`, ...) an `jupyter_run_tests`; z.B.\n",
    "\n",
    "```{code-block} python\n",
    "jupyter_run_tests(\"1a\", \"1b\", \"2\")\n",
    "```\n",
    "\n",
    ":::{note}\n",
    "Denken Sie daran, dass das Bestehen der öffentlichen Testfälle nicht unbedingt ausreicht,\n",
    "um die Punkte für eine Teilaufgabe zu erhalten - \n",
    "Ihre Implementierung muss dafür auch eine Reihe nicht-öffentlicher Tests bestehen.\n",
    ":::"
   ]
  },
  {
   "cell_type": "code",
   "execution_count": null,
   "id": "3828acc8",
   "metadata": {},
   "outputs": [],
   "source": [
    "from blatt07_tests import jupyter_run_tests\n",
    "\n",
    "# Testsuite ausführen\n",
    "jupyter_run_tests()"
   ]
  },
  {
   "cell_type": "markdown",
   "id": "41285076",
   "metadata": {
    "deletable": false,
    "editable": false
   },
   "source": [
    "## Aufgabe 1 - Bézierkurven"
   ]
  },
  {
   "cell_type": "markdown",
   "id": "786e8812",
   "metadata": {
    "deletable": false,
    "editable": false
   },
   "source": [
    "Nutzen Sie die folgenden Zellen und erstellen Sie ggf. weitere, um ihre Implementierungen zu dieser Aufgabe zu testen."
   ]
  },
  {
   "cell_type": "code",
   "execution_count": null,
   "id": "367cf08e",
   "metadata": {},
   "outputs": [],
   "source": []
  },
  {
   "cell_type": "code",
   "execution_count": null,
   "id": "f5bfe04e",
   "metadata": {},
   "outputs": [],
   "source": []
  },
  {
   "cell_type": "markdown",
   "id": "fafb3622",
   "metadata": {
    "deletable": false,
    "editable": false
   },
   "source": [
    "### a) De Casteljau-Schritt"
   ]
  },
  {
   "cell_type": "markdown",
   "id": "a6ef0512",
   "metadata": {
    "deletable": false,
    "editable": false
   },
   "source": [
    "Sie können die nachfolgende Zelle nutzen, um ihre Implementierung von `de_casteljau_step`\n",
    "interaktiv zu visualisieren.\n",
    "Verändern Sie die Position $t$ mit dem Slider unterhalb der Graphik."
   ]
  },
  {
   "cell_type": "code",
   "execution_count": null,
   "id": "5d25355b",
   "metadata": {},
   "outputs": [],
   "source": [
    "%matplotlib agg\n",
    "\n",
    "import numpy as np\n",
    "from widgets import de_casteljau_plot\n",
    "\n",
    "# Kontrollpolygon\n",
    "P = np.array([[3., 2.], [2., 5.], [7., 6.], [8., 1.]])\n",
    "\n",
    "de_casteljau_plot(P)"
   ]
  },
  {
   "cell_type": "markdown",
   "id": "68ba85e8",
   "metadata": {
    "deletable": false,
    "editable": false
   },
   "source": [
    "### c) Bézierkurve approximieren"
   ]
  },
  {
   "cell_type": "markdown",
   "id": "ccf6300d",
   "metadata": {
    "deletable": false,
    "editable": false
   },
   "source": [
    "Nutzen Sie die folgende Zelle, um ihre Lösung zu Aufgabe c) visuell zu prüfen.\n",
    "Verändern Sie die Anzahl der Punkte mit dem Slider unterhalb der Graphik."
   ]
  },
  {
   "cell_type": "code",
   "execution_count": null,
   "id": "5f1c9f62",
   "metadata": {},
   "outputs": [],
   "source": [
    "%matplotlib agg\n",
    "\n",
    "import numpy as np\n",
    "from widgets import bezier1_plot\n",
    "\n",
    "# Kontrollpolygon\n",
    "P = np.array([[3., 2.], [2., 5.], [7., 6.], [8., 1.]])\n",
    "\n",
    "bezier1_plot(P)"
   ]
  },
  {
   "cell_type": "markdown",
   "id": "2b13a18f",
   "metadata": {
    "deletable": false,
    "editable": false
   },
   "source": [
    "### f) Bézierkurven rekursiv approximieren"
   ]
  },
  {
   "cell_type": "markdown",
   "id": "cab4fd1d",
   "metadata": {
    "deletable": false,
    "editable": false
   },
   "source": [
    "Nutzen Sie die folgende Zelle, um ihre Lösung zu Aufgabe f) visuell zu prüfen.\n",
    "Verändern Sie die Rekursionstiefe mit dem Slider unterhalb der Graphik."
   ]
  },
  {
   "cell_type": "code",
   "execution_count": null,
   "id": "cbce50b5",
   "metadata": {},
   "outputs": [],
   "source": [
    "%matplotlib agg\n",
    "\n",
    "import numpy as np\n",
    "from widgets import bezier2_plot\n",
    "\n",
    "# Kontrollpolygon\n",
    "P = np.array([[3., 2.], [2., 5.], [7., 6.], [8., 1.]])\n",
    "\n",
    "bezier2_plot(P)"
   ]
  },
  {
   "cell_type": "markdown",
   "id": "ca64625c",
   "metadata": {
    "deletable": false,
    "editable": false
   },
   "source": [
    "## Aufgabe 2 - Polynominterpolation"
   ]
  },
  {
   "cell_type": "markdown",
   "id": "970c1ccc",
   "metadata": {
    "deletable": false,
    "editable": false
   },
   "source": [
    "Nutzen Sie die folgenden Zellen und erstellen Sie ggf. weitere, um ihre Implementierungen zu dieser Aufgabe zu testen."
   ]
  },
  {
   "cell_type": "code",
   "execution_count": null,
   "id": "c7b26b8b",
   "metadata": {},
   "outputs": [],
   "source": []
  },
  {
   "cell_type": "code",
   "execution_count": null,
   "id": "2d0401d2",
   "metadata": {},
   "outputs": [],
   "source": []
  },
  {
   "cell_type": "code",
   "execution_count": null,
   "id": "cf8b10c9",
   "metadata": {},
   "outputs": [],
   "source": []
  },
  {
   "cell_type": "markdown",
   "id": "2f44fae0",
   "metadata": {
    "deletable": false,
    "editable": false
   },
   "source": [
    "Nutzen Sie die nachfolgende Zellen, um das in Teilaufgabe d) bestimmte Interpolationspolynom\n",
    "zu plotten:"
   ]
  },
  {
   "cell_type": "code",
   "execution_count": null,
   "id": "c05ee3f8",
   "metadata": {},
   "outputs": [],
   "source": [
    "def interpolation_plot(X, Y):\n",
    "    import matplotlib.pyplot as plt\n",
    "    import numpy as np\n",
    "    from interpolation import interpolating_polynomial\n",
    "    \n",
    "    p = interpolating_polynomial(X, Y)\n",
    "    px = np.arange(min(X)-0.1, max(X)+0.11, 0.01)\n",
    "    fig, ax = plt.subplots()\n",
    "    ax.grid(True)\n",
    "    ax.plot(X, Y, \"o\")\n",
    "    ax.plot(px, p(px))\n",
    "    return fig"
   ]
  },
  {
   "cell_type": "code",
   "execution_count": null,
   "id": "82a88cc8",
   "metadata": {},
   "outputs": [],
   "source": [
    "X = np.array([0, 1, 2,3])\n",
    "Y = np.array([-2.,3.,1.,2.])\n",
    "interpolation_plot(X, Y)"
   ]
  }
 ],
 "metadata": {
  "jupytext": {
   "default_lexer": "ipython3"
  },
  "kernelspec": {
   "display_name": "Python 3 (ipykernel)",
   "language": "python",
   "name": "python3"
  }
 },
 "nbformat": 4,
 "nbformat_minor": 5
}