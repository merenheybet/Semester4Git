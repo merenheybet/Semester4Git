{
 "cells": [
  {
   "cell_type": "markdown",
   "id": "67040464",
   "metadata": {
    "deletable": false,
    "editable": false
   },
   "source": [
    "# Blatt 3 - Scratchpad"
   ]
  },
  {
   "cell_type": "markdown",
   "id": "f848e70e",
   "metadata": {
    "deletable": false,
    "editable": false
   },
   "source": [
    "Nutzen Sie dieses Notebook, um ihre Lösungen zu den Aufgaben auf diesem Übungsblatt interaktiv zu entwickeln und zu testen.\n",
    "Denken Sie auch daran, den Debugger zu nutzen, um Fehler zu identifizieren.\n",
    "\n",
    ":::{important}\n",
    "\n",
    "Vergessen Sie nicht, Ihre fertigen Lösungen in das Modul der jeweiligen Aufgabe einzufügen.\n",
    "Dieses Notebook wird nicht mit abgegeben!\n",
    "\n",
    ":::\n",
    "\n",
    "Führen Sie folgende Zelle aus, um `autoreload` zu aktivieren:"
   ]
  },
  {
   "cell_type": "code",
   "execution_count": null,
   "id": "0d78bb29",
   "metadata": {},
   "outputs": [],
   "source": [
    "%load_ext autoreload\n",
    "%autoreload 2"
   ]
  },
  {
   "cell_type": "markdown",
   "id": "205fa88f",
   "metadata": {
    "deletable": false,
    "editable": false
   },
   "source": [
    "## Automatische Testsuite"
   ]
  },
  {
   "cell_type": "markdown",
   "id": "44003a45",
   "metadata": {
    "deletable": false,
    "editable": false
   },
   "source": [
    "Wenn Ihre Implementierung fertig ist, können Sie die folgende Zelle ausführen, um die automatischen Tests auszuführen und Feedback zu erhalten.\n",
    "\n",
    "Um nur bestimmte Aufgaben oder Teilaufgaben zu prüfen, übergeben Sie deren IDs (`\"1\"`, `\"2b\"`, ...) an `jupyter_run_tests`; z.B.\n",
    "\n",
    "```{code-block} python\n",
    "jupyter_run_tests(\"1a\", \"1b\", \"2\")\n",
    "```\n",
    "\n",
    ":::{note}\n",
    "Denken Sie daran, dass das Bestehen der öffentlichen Testfälle nicht unbedingt ausreicht,\n",
    "um die Punkte für eine Teilaufgabe zu erhalten - \n",
    "Ihre Implementierung muss dafür auch eine Reihe nicht-öffentlicher Tests bestehen.\n",
    ":::"
   ]
  },
  {
   "cell_type": "code",
   "execution_count": null,
   "id": "a878e95d",
   "metadata": {},
   "outputs": [],
   "source": [
    "from blatt03_tests import jupyter_run_tests\n",
    "\n",
    "# Testsuite ausführen\n",
    "jupyter_run_tests()"
   ]
  },
  {
   "cell_type": "markdown",
   "id": "ec6a0d90",
   "metadata": {
    "deletable": false,
    "editable": false
   },
   "source": [
    "## Aufgabe 1 - LR-Zerlegung"
   ]
  },
  {
   "cell_type": "markdown",
   "id": "2f266aa7",
   "metadata": {
    "deletable": false,
    "editable": false
   },
   "source": [
    "Nutzen Sie die folgenden Zellen und erstellen Sie ggf. weitere, um ihre Implementierungen zu dieser Aufgabe zu testen."
   ]
  },
  {
   "cell_type": "code",
   "execution_count": null,
   "id": "05ba974b",
   "metadata": {},
   "outputs": [],
   "source": []
  },
  {
   "cell_type": "code",
   "execution_count": null,
   "id": "3c820540",
   "metadata": {},
   "outputs": [],
   "source": []
  },
  {
   "cell_type": "code",
   "execution_count": null,
   "id": "0531f0f8",
   "metadata": {},
   "outputs": [],
   "source": []
  },
  {
   "cell_type": "markdown",
   "id": "73f4be72",
   "metadata": {
    "deletable": false,
    "editable": false
   },
   "source": [
    "## Aufgabe 2 - QR-Zerlegung"
   ]
  },
  {
   "cell_type": "markdown",
   "id": "b2183a79",
   "metadata": {
    "deletable": false,
    "editable": false
   },
   "source": [
    "Nutzen Sie die folgenden Zellen und erstellen Sie ggf. weitere, um ihre Implementierungen zu dieser Aufgabe zu testen."
   ]
  },
  {
   "cell_type": "code",
   "execution_count": null,
   "id": "24e10eff",
   "metadata": {},
   "outputs": [],
   "source": []
  },
  {
   "cell_type": "code",
   "execution_count": null,
   "id": "afdf127b",
   "metadata": {},
   "outputs": [],
   "source": []
  },
  {
   "cell_type": "code",
   "execution_count": null,
   "id": "7c66fbd0",
   "metadata": {},
   "outputs": [],
   "source": []
  }
 ],
 "metadata": {
  "jupytext": {
   "default_lexer": "ipython3"
  },
  "kernelspec": {
   "display_name": "Python 3 (ipykernel)",
   "language": "python",
   "name": "python3"
  }
 },
 "nbformat": 4,
 "nbformat_minor": 5
}