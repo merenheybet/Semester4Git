{
 "cells": [
  {
   "cell_type": "markdown",
   "id": "70958c36",
   "metadata": {
    "deletable": false,
    "editable": false
   },
   "source": [
    "# Blatt 1 - Scratchpad"
   ]
  },
  {
   "cell_type": "markdown",
   "id": "cb12f3e7",
   "metadata": {
    "deletable": false,
    "editable": false
   },
   "source": [
    "Nutzen Sie dieses Notebook, um ihre Lösungen zu den Aufgaben auf Blatt 1 interaktiv zu entwickeln und zu testen.\n",
    "Denken Sie auch daran, den Debugger zu nutzen, um Fehler zu identifizieren.\n",
    "\n",
    ":::{important}\n",
    "\n",
    "Vergessen Sie nicht, Ihre fertigen Lösungen in das Modul der jeweiligen Aufgabe einzufügen.\n",
    "Dieses Notebook wird nicht mit abgegeben!\n",
    "\n",
    ":::\n",
    "\n",
    "Führen Sie folgende Zelle aus, um `autoreload` zu aktivieren:"
   ]
  },
  {
   "cell_type": "code",
   "execution_count": 1,
   "id": "09084434",
   "metadata": {},
   "outputs": [],
   "source": [
    "%load_ext autoreload\n",
    "%autoreload 2"
   ]
  },
  {
   "cell_type": "markdown",
   "id": "901d4710",
   "metadata": {
    "deletable": false,
    "editable": false
   },
   "source": [
    "## Automatische Testsuite"
   ]
  },
  {
   "cell_type": "markdown",
   "id": "88f4d83b",
   "metadata": {
    "deletable": false,
    "editable": false
   },
   "source": [
    "Wenn Ihre Implementierung fertig ist, können Sie die folgende Zelle ausführen, um die automatischen Tests auszuführen und Feedback zu erhalten.\n",
    "\n",
    "Um nur bestimmte Aufgaben oder Teilaufgaben zu prüfen, übergeben Sie deren IDs (`\"1\"`, `\"2b\"`, ...) an `jupyter_run_tests`; z.B.\n",
    "\n",
    "```{code-block} python\n",
    "jupyter_run_tests(\"1a\", \"1b\", \"2\")\n",
    "```\n",
    "\n",
    ":::{note}\n",
    "Denken Sie daran, dass das Bestehen der öffentlichen Testfälle nicht unbedingt ausreicht,\n",
    "um die Punkte für eine Teilaufgabe zu erhalten - \n",
    "Ihre Implementierung muss dafür auch eine Reihe nicht-öffentlicher Tests bestehen.\n",
    ":::"
   ]
  },
  {
   "cell_type": "code",
   "execution_count": null,
   "id": "3a3ec349",
   "metadata": {},
   "outputs": [
    {
     "data": {
      "text/markdown": [
       ":::::{note} Aufgabe 1: Arithmetik Rationaler Zahlen [1.5 / 7 Punkte]\n",
       "\n",
       "::::{hint} [OK] Teilaufgabe a: Sieb des Eratosthenes [1.5 / 1.5 Punkte]\n",
       ":class: dropdown\n",
       "\n",
       ":::{hint} Test 0 - OK\n",
       ":class: dropdown\n",
       "\n",
       "```\n",
       "primes_sieve(1) = []\n",
       "```\n",
       ":::\n",
       "\n",
       ":::{hint} Test 1 - OK\n",
       ":class: dropdown\n",
       "\n",
       "```\n",
       "primes_sieve(2) = [2]\n",
       "```\n",
       ":::\n",
       "\n",
       ":::{hint} Test 2 - OK\n",
       ":class: dropdown\n",
       "\n",
       "```\n",
       "primes_sieve(3) = [2, 3]\n",
       "```\n",
       ":::\n",
       "\n",
       ":::{hint} Test 3 - OK\n",
       ":class: dropdown\n",
       "\n",
       "```\n",
       "primes_sieve(10) = [2, 3, 5, 7]\n",
       "```\n",
       ":::\n",
       "\n",
       ":::{hint} Test 4 - OK\n",
       ":class: dropdown\n",
       "\n",
       "```\n",
       "primes_sieve(31) = [2, 3, 5, 7, 11, 13, 17, 19, 23, 29, 31]\n",
       "```\n",
       ":::\n",
       "::::\n",
       ":::::"
      ],
      "text/plain": [
       "<IPython.core.display.Markdown object>"
      ]
     },
     "metadata": {},
     "output_type": "display_data"
    }
   ],
   "source": [
    "from blatt01_tests import jupyter_run_tests\n",
    "\n",
    "# Testsuite ausführen\n",
    "jupyter_run_tests()"
   ]
  },
  {
   "cell_type": "markdown",
   "id": "636ca2f4",
   "metadata": {
    "deletable": false,
    "editable": false
   },
   "source": [
    "## Aufgabe 1 - Arithmetik Rationaler Zahlen"
   ]
  },
  {
   "cell_type": "markdown",
   "id": "374e6677",
   "metadata": {
    "deletable": false,
    "editable": false
   },
   "source": [
    "Nutzen Sie die folgenden Zellen und erstellen Sie ggf. weitere, um ihre Implementierungen zu dieser Aufgabe zu testen."
   ]
  },
  {
   "cell_type": "code",
   "execution_count": null,
   "id": "53fa11fa",
   "metadata": {},
   "outputs": [
    {
     "name": "stderr",
     "output_type": "stream",
     "text": [
      "Process SpawnPoolWorker-7:\n",
      "Process SpawnPoolWorker-3:\n",
      "Process SpawnPoolWorker-6:\n",
      "Process SpawnPoolWorker-1:\n",
      "Traceback (most recent call last):\n",
      "Traceback (most recent call last):\n",
      "Traceback (most recent call last):\n",
      "Traceback (most recent call last):\n",
      "  File \"/local/python3.13-pip-2025-04-AlgoKS/lib/python3.13/multiprocessing/process.py\", line 313, in _bootstrap\n",
      "    self.run()\n",
      "    ~~~~~~~~^^\n",
      "  File \"/local/python3.13-pip-2025-04-AlgoKS/lib/python3.13/multiprocessing/process.py\", line 108, in run\n",
      "    self._target(*self._args, **self._kwargs)\n",
      "    ~~~~~~~~~~~~^^^^^^^^^^^^^^^^^^^^^^^^^^^^^\n",
      "  File \"/local/python3.13-pip-2025-04-AlgoKS/lib/python3.13/multiprocessing/pool.py\", line 114, in worker\n",
      "    task = get()\n",
      "  File \"/local/python3.13-pip-2025-04-AlgoKS/lib/python3.13/multiprocessing/queues.py\", line 384, in get\n",
      "    with self._rlock:\n",
      "         ^^^^^^^^^^^\n",
      "  File \"/local/python3.13-pip-2025-04-AlgoKS/lib/python3.13/multiprocessing/synchronize.py\", line 95, in __enter__\n",
      "    return self._semlock.__enter__()\n",
      "           ~~~~~~~~~~~~~~~~~~~~~~~^^\n",
      "KeyboardInterrupt\n",
      "  File \"/local/python3.13-pip-2025-04-AlgoKS/lib/python3.13/multiprocessing/process.py\", line 313, in _bootstrap\n",
      "    self.run()\n",
      "    ~~~~~~~~^^\n",
      "  File \"/local/python3.13-pip-2025-04-AlgoKS/lib/python3.13/multiprocessing/process.py\", line 108, in run\n",
      "    self._target(*self._args, **self._kwargs)\n",
      "    ~~~~~~~~~~~~^^^^^^^^^^^^^^^^^^^^^^^^^^^^^\n",
      "  File \"/local/python3.13-pip-2025-04-AlgoKS/lib/python3.13/multiprocessing/pool.py\", line 114, in worker\n",
      "    task = get()\n",
      "  File \"/local/python3.13-pip-2025-04-AlgoKS/lib/python3.13/multiprocessing/queues.py\", line 384, in get\n",
      "    with self._rlock:\n",
      "         ^^^^^^^^^^^\n",
      "  File \"/local/python3.13-pip-2025-04-AlgoKS/lib/python3.13/multiprocessing/synchronize.py\", line 95, in __enter__\n",
      "    return self._semlock.__enter__()\n",
      "           ~~~~~~~~~~~~~~~~~~~~~~~^^\n",
      "KeyboardInterrupt\n",
      "  File \"/local/python3.13-pip-2025-04-AlgoKS/lib/python3.13/multiprocessing/process.py\", line 313, in _bootstrap\n",
      "    self.run()\n",
      "    ~~~~~~~~^^\n",
      "  File \"/local/python3.13-pip-2025-04-AlgoKS/lib/python3.13/multiprocessing/process.py\", line 313, in _bootstrap\n",
      "    self.run()\n",
      "    ~~~~~~~~^^\n",
      "  File \"/local/python3.13-pip-2025-04-AlgoKS/lib/python3.13/multiprocessing/process.py\", line 108, in run\n",
      "    self._target(*self._args, **self._kwargs)\n",
      "    ~~~~~~~~~~~~^^^^^^^^^^^^^^^^^^^^^^^^^^^^^\n",
      "  File \"/local/python3.13-pip-2025-04-AlgoKS/lib/python3.13/multiprocessing/process.py\", line 108, in run\n",
      "    self._target(*self._args, **self._kwargs)\n",
      "    ~~~~~~~~~~~~^^^^^^^^^^^^^^^^^^^^^^^^^^^^^\n",
      "  File \"/local/python3.13-pip-2025-04-AlgoKS/lib/python3.13/multiprocessing/pool.py\", line 114, in worker\n",
      "    task = get()\n",
      "  File \"/local/python3.13-pip-2025-04-AlgoKS/lib/python3.13/multiprocessing/pool.py\", line 114, in worker\n",
      "    task = get()\n",
      "  File \"/local/python3.13-pip-2025-04-AlgoKS/lib/python3.13/multiprocessing/queues.py\", line 384, in get\n",
      "    with self._rlock:\n",
      "         ^^^^^^^^^^^\n",
      "  File \"/local/python3.13-pip-2025-04-AlgoKS/lib/python3.13/multiprocessing/queues.py\", line 385, in get\n",
      "    res = self._reader.recv_bytes()\n",
      "  File \"/local/python3.13-pip-2025-04-AlgoKS/lib/python3.13/multiprocessing/synchronize.py\", line 95, in __enter__\n",
      "    return self._semlock.__enter__()\n",
      "           ~~~~~~~~~~~~~~~~~~~~~~~^^\n",
      "  File \"/local/python3.13-pip-2025-04-AlgoKS/lib/python3.13/multiprocessing/connection.py\", line 216, in recv_bytes\n",
      "    buf = self._recv_bytes(maxlength)\n",
      "  File \"/local/python3.13-pip-2025-04-AlgoKS/lib/python3.13/multiprocessing/connection.py\", line 430, in _recv_bytes\n",
      "    buf = self._recv(4)\n",
      "  File \"/local/python3.13-pip-2025-04-AlgoKS/lib/python3.13/multiprocessing/connection.py\", line 395, in _recv\n",
      "    chunk = read(handle, remaining)\n",
      "KeyboardInterrupt\n",
      "KeyboardInterrupt\n",
      "Process SpawnPoolWorker-2:\n",
      "Traceback (most recent call last):\n",
      "  File \"/local/python3.13-pip-2025-04-AlgoKS/lib/python3.13/multiprocessing/process.py\", line 313, in _bootstrap\n",
      "    self.run()\n",
      "    ~~~~~~~~^^\n",
      "  File \"/local/python3.13-pip-2025-04-AlgoKS/lib/python3.13/multiprocessing/process.py\", line 108, in run\n",
      "    self._target(*self._args, **self._kwargs)\n",
      "    ~~~~~~~~~~~~^^^^^^^^^^^^^^^^^^^^^^^^^^^^^\n",
      "  File \"/local/python3.13-pip-2025-04-AlgoKS/lib/python3.13/multiprocessing/pool.py\", line 114, in worker\n",
      "    task = get()\n",
      "  File \"/local/python3.13-pip-2025-04-AlgoKS/lib/python3.13/multiprocessing/queues.py\", line 384, in get\n",
      "    with self._rlock:\n",
      "         ^^^^^^^^^^^\n",
      "  File \"/local/python3.13-pip-2025-04-AlgoKS/lib/python3.13/multiprocessing/synchronize.py\", line 95, in __enter__\n",
      "    return self._semlock.__enter__()\n",
      "           ~~~~~~~~~~~~~~~~~~~~~~~^^\n",
      "KeyboardInterrupt\n"
     ]
    },
    {
     "ename": "KeyboardInterrupt",
     "evalue": "",
     "output_type": "error",
     "traceback": [
      "\u001b[31m---------------------------------------------------------------------------\u001b[39m",
      "\u001b[31mKeyboardInterrupt\u001b[39m                         Traceback (most recent call last)",
      "\u001b[36mCell\u001b[39m\u001b[36m \u001b[39m\u001b[32mIn[1]\u001b[39m\u001b[32m, line 4\u001b[39m\n\u001b[32m      1\u001b[39m \u001b[38;5;28;01mfrom\u001b[39;00m\u001b[38;5;250m \u001b[39m\u001b[34;01mblatt01_tests\u001b[39;00m\u001b[38;5;250m \u001b[39m\u001b[38;5;28;01mimport\u001b[39;00m jupyter_run_tests\n\u001b[32m      3\u001b[39m \u001b[38;5;66;03m# Testsuite ausführen\u001b[39;00m\n\u001b[32m----> \u001b[39m\u001b[32m4\u001b[39m \u001b[43mjupyter_run_tests\u001b[49m\u001b[43m(\u001b[49m\u001b[33;43m\"\u001b[39;49m\u001b[33;43m1d\u001b[39;49m\u001b[33;43m\"\u001b[39;49m\u001b[43m)\u001b[49m\n",
      "\u001b[36mFile \u001b[39m\u001b[32m~/Documents/Semester4Git/AlgoKS/Blatt01/blatt01_tests.py:553\u001b[39m, in \u001b[36mjupyter_run_tests\u001b[39m\u001b[34m(*tasknames)\u001b[39m\n\u001b[32m    551\u001b[39m \u001b[38;5;28;01mdef\u001b[39;00m\u001b[38;5;250m \u001b[39m\u001b[34mjupyter_run_tests\u001b[39m(*tasknames: \u001b[38;5;28mstr\u001b[39m):\n\u001b[32m    552\u001b[39m     src_dir = pathlib.Path(\u001b[34m__file__\u001b[39m).parent\n\u001b[32m--> \u001b[39m\u001b[32m553\u001b[39m     \u001b[43mts\u001b[49m\u001b[43m.\u001b[49m\u001b[43mTestDriver\u001b[49m\u001b[43m(\u001b[49m\u001b[43msheet\u001b[49m\u001b[43m,\u001b[49m\u001b[43m \u001b[49m\u001b[43msrc_dir\u001b[49m\u001b[43m)\u001b[49m\u001b[43m.\u001b[49m\u001b[43mrun_jupyter\u001b[49m\u001b[43m(\u001b[49m\u001b[43mtasknames\u001b[49m\u001b[43m)\u001b[49m\n",
      "\u001b[36mFile \u001b[39m\u001b[32m~/Documents/Semester4Git/AlgoKS/Blatt01/testsuite.py:639\u001b[39m, in \u001b[36mTestDriver.run_jupyter\u001b[39m\u001b[34m(self, tasks)\u001b[39m\n\u001b[32m    636\u001b[39m selected_subtasks = \u001b[38;5;28mself\u001b[39m._filter_tasks(tasknames)\n\u001b[32m    638\u001b[39m \u001b[38;5;66;03m#   Run tasks\u001b[39;00m\n\u001b[32m--> \u001b[39m\u001b[32m639\u001b[39m \u001b[43m\u001b[49m\u001b[38;5;28;43;01mfor\u001b[39;49;00m\u001b[43m \u001b[49m\u001b[43mrep\u001b[49m\u001b[43m \u001b[49m\u001b[38;5;129;43;01min\u001b[39;49;00m\u001b[43m \u001b[49m\u001b[38;5;28;43mself\u001b[39;49m\u001b[43m.\u001b[49m\u001b[43m_process_subtasks\u001b[49m\u001b[43m(\u001b[49m\u001b[43mselected_subtasks\u001b[49m\u001b[43m)\u001b[49m\u001b[43m:\u001b[49m\n\u001b[32m    640\u001b[39m \u001b[43m    \u001b[49m\u001b[38;5;66;43;03m# display(Code(rep.markdown(), language=\"Markdown\"))\u001b[39;49;00m\n\u001b[32m    641\u001b[39m \u001b[43m    \u001b[49m\u001b[43mdisplay\u001b[49m\u001b[43m(\u001b[49m\u001b[43mMarkdown\u001b[49m\u001b[43m(\u001b[49m\u001b[43mrep\u001b[49m\u001b[43m.\u001b[49m\u001b[43mmarkdown\u001b[49m\u001b[43m(\u001b[49m\u001b[43m)\u001b[49m\u001b[43m)\u001b[49m\u001b[43m)\u001b[49m\n",
      "\u001b[36mFile \u001b[39m\u001b[32m~/Documents/Semester4Git/AlgoKS/Blatt01/testsuite.py:694\u001b[39m, in \u001b[36mTestDriver._process_subtasks\u001b[39m\u001b[34m(self, selected_subtasks)\u001b[39m\n\u001b[32m    692\u001b[39m \u001b[38;5;28;01mif\u001b[39;00m runner.import_and_check():\n\u001b[32m    693\u001b[39m     \u001b[38;5;28;01mfor\u001b[39;00m subtask_id \u001b[38;5;129;01min\u001b[39;00m \u001b[38;5;28msorted\u001b[39m(selected_subtasks[task.id]):\n\u001b[32m--> \u001b[39m\u001b[32m694\u001b[39m         \u001b[43mrunner\u001b[49m\u001b[43m.\u001b[49m\u001b[43mtest_subtask\u001b[49m\u001b[43m(\u001b[49m\u001b[43msubtask_id\u001b[49m\u001b[43m)\u001b[49m\n\u001b[32m    696\u001b[39m runner.report.add_marks()\n\u001b[32m    697\u001b[39m \u001b[38;5;28;01myield\u001b[39;00m runner.report\n",
      "\u001b[36mFile \u001b[39m\u001b[32m~/Documents/Semester4Git/AlgoKS/Blatt01/testsuite.py:427\u001b[39m, in \u001b[36mTaskRunner.test_subtask\u001b[39m\u001b[34m(self, subtask_id)\u001b[39m\n\u001b[32m    421\u001b[39m     \u001b[38;5;28;01mexcept\u001b[39;00m \u001b[38;5;167;01mBaseException\u001b[39;00m \u001b[38;5;28;01mas\u001b[39;00m e:\n\u001b[32m    422\u001b[39m         \u001b[38;5;28;01mreturn\u001b[39;00m TestResult(\n\u001b[32m    423\u001b[39m             success=\u001b[38;5;28;01mFalse\u001b[39;00m,\n\u001b[32m    424\u001b[39m             detail=\u001b[33mf\u001b[39m\u001b[33m\"\u001b[39m\u001b[33mBeim Ausführen des Tests ist ein Fehler aufgetreten: \u001b[39m\u001b[38;5;132;01m{\u001b[39;00me\u001b[38;5;132;01m}\u001b[39;00m\u001b[33m\"\u001b[39m,\n\u001b[32m    425\u001b[39m         )\n\u001b[32m--> \u001b[39m\u001b[32m427\u001b[39m \u001b[43m\u001b[49m\u001b[38;5;28;43;01mwith\u001b[39;49;00m\u001b[43m \u001b[49m\u001b[38;5;28;43mself\u001b[39;49m\u001b[43m.\u001b[49m\u001b[43m_mp_context\u001b[49m\u001b[43m.\u001b[49m\u001b[43mPool\u001b[49m\u001b[43m(\u001b[49m\u001b[43m)\u001b[49m\u001b[43m \u001b[49m\u001b[38;5;28;43;01mas\u001b[39;49;00m\u001b[43m \u001b[49m\u001b[43mpool\u001b[49m\u001b[43m:\u001b[49m\n\u001b[32m    428\u001b[39m \u001b[43m    \u001b[49m\u001b[43mpromises\u001b[49m\u001b[43m \u001b[49m\u001b[43m=\u001b[49m\u001b[43m \u001b[49m\u001b[43m[\u001b[49m\n\u001b[32m    429\u001b[39m \u001b[43m        \u001b[49m\u001b[43mpool\u001b[49m\u001b[43m.\u001b[49m\u001b[43mapply_async\u001b[49m\u001b[43m(\u001b[49m\n\u001b[32m    430\u001b[39m \u001b[43m            \u001b[49m\u001b[43mTaskRunner\u001b[49m\u001b[43m.\u001b[49m\u001b[43m_exec_testcase\u001b[49m\u001b[43m,\u001b[49m\n\u001b[32m   (...)\u001b[39m\u001b[32m    441\u001b[39m \u001b[43m        \u001b[49m\u001b[38;5;28;43;01mfor\u001b[39;49;00m\u001b[43m \u001b[49m\u001b[43mtcase\u001b[49m\u001b[43m \u001b[49m\u001b[38;5;129;43;01min\u001b[39;49;00m\u001b[43m \u001b[49m\u001b[43msubtask\u001b[49m\u001b[43m.\u001b[49m\u001b[43mtest_cases\u001b[49m\n\u001b[32m    442\u001b[39m \u001b[43m    \u001b[49m\u001b[43m]\u001b[49m\n\u001b[32m    444\u001b[39m \u001b[43m    \u001b[49m\u001b[43mresults\u001b[49m\u001b[43m \u001b[49m\u001b[43m=\u001b[49m\u001b[43m \u001b[49m\u001b[43m[\u001b[49m\u001b[43mconsume\u001b[49m\u001b[43m(\u001b[49m\u001b[43mpromise\u001b[49m\u001b[43m)\u001b[49m\u001b[43m \u001b[49m\u001b[38;5;28;43;01mfor\u001b[39;49;00m\u001b[43m \u001b[49m\u001b[43mpromise\u001b[49m\u001b[43m \u001b[49m\u001b[38;5;129;43;01min\u001b[39;49;00m\u001b[43m \u001b[49m\u001b[43mpromises\u001b[49m\u001b[43m]\u001b[49m\n",
      "\u001b[36mFile \u001b[39m\u001b[32m/local/python3.13-pip-2025-04-AlgoKS/lib/python3.13/multiprocessing/pool.py:739\u001b[39m, in \u001b[36mPool.__exit__\u001b[39m\u001b[34m(self, exc_type, exc_val, exc_tb)\u001b[39m\n\u001b[32m    738\u001b[39m \u001b[38;5;28;01mdef\u001b[39;00m\u001b[38;5;250m \u001b[39m\u001b[34m__exit__\u001b[39m(\u001b[38;5;28mself\u001b[39m, exc_type, exc_val, exc_tb):\n\u001b[32m--> \u001b[39m\u001b[32m739\u001b[39m     \u001b[38;5;28;43mself\u001b[39;49m\u001b[43m.\u001b[49m\u001b[43mterminate\u001b[49m\u001b[43m(\u001b[49m\u001b[43m)\u001b[49m\n",
      "\u001b[36mFile \u001b[39m\u001b[32m/local/python3.13-pip-2025-04-AlgoKS/lib/python3.13/multiprocessing/pool.py:657\u001b[39m, in \u001b[36mPool.terminate\u001b[39m\u001b[34m(self)\u001b[39m\n\u001b[32m    655\u001b[39m util.debug(\u001b[33m'\u001b[39m\u001b[33mterminating pool\u001b[39m\u001b[33m'\u001b[39m)\n\u001b[32m    656\u001b[39m \u001b[38;5;28mself\u001b[39m._state = TERMINATE\n\u001b[32m--> \u001b[39m\u001b[32m657\u001b[39m \u001b[38;5;28;43mself\u001b[39;49m\u001b[43m.\u001b[49m\u001b[43m_terminate\u001b[49m\u001b[43m(\u001b[49m\u001b[43m)\u001b[49m\n",
      "\u001b[36mFile \u001b[39m\u001b[32m/local/python3.13-pip-2025-04-AlgoKS/lib/python3.13/multiprocessing/util.py:216\u001b[39m, in \u001b[36mFinalize.__call__\u001b[39m\u001b[34m(self, wr, _finalizer_registry, sub_debug, getpid)\u001b[39m\n\u001b[32m    213\u001b[39m \u001b[38;5;28;01melse\u001b[39;00m:\n\u001b[32m    214\u001b[39m     sub_debug(\u001b[33m'\u001b[39m\u001b[33mfinalizer calling \u001b[39m\u001b[38;5;132;01m%s\u001b[39;00m\u001b[33m with args \u001b[39m\u001b[38;5;132;01m%s\u001b[39;00m\u001b[33m and kwargs \u001b[39m\u001b[38;5;132;01m%s\u001b[39;00m\u001b[33m'\u001b[39m,\n\u001b[32m    215\u001b[39m               \u001b[38;5;28mself\u001b[39m._callback, \u001b[38;5;28mself\u001b[39m._args, \u001b[38;5;28mself\u001b[39m._kwargs)\n\u001b[32m--> \u001b[39m\u001b[32m216\u001b[39m     res = \u001b[38;5;28;43mself\u001b[39;49m\u001b[43m.\u001b[49m\u001b[43m_callback\u001b[49m\u001b[43m(\u001b[49m\u001b[43m*\u001b[49m\u001b[38;5;28;43mself\u001b[39;49m\u001b[43m.\u001b[49m\u001b[43m_args\u001b[49m\u001b[43m,\u001b[49m\u001b[43m \u001b[49m\u001b[43m*\u001b[49m\u001b[43m*\u001b[49m\u001b[38;5;28;43mself\u001b[39;49m\u001b[43m.\u001b[49m\u001b[43m_kwargs\u001b[49m\u001b[43m)\u001b[49m\n\u001b[32m    217\u001b[39m \u001b[38;5;28mself\u001b[39m._weakref = \u001b[38;5;28mself\u001b[39m._callback = \u001b[38;5;28mself\u001b[39m._args = \\\n\u001b[32m    218\u001b[39m                 \u001b[38;5;28mself\u001b[39m._kwargs = \u001b[38;5;28mself\u001b[39m._key = \u001b[38;5;28;01mNone\u001b[39;00m\n\u001b[32m    219\u001b[39m \u001b[38;5;28;01mreturn\u001b[39;00m res\n",
      "\u001b[36mFile \u001b[39m\u001b[32m/local/python3.13-pip-2025-04-AlgoKS/lib/python3.13/multiprocessing/pool.py:695\u001b[39m, in \u001b[36mPool._terminate_pool\u001b[39m\u001b[34m(cls, taskqueue, inqueue, outqueue, pool, change_notifier, worker_handler, task_handler, result_handler, cache)\u001b[39m\n\u001b[32m    692\u001b[39m task_handler._state = TERMINATE\n\u001b[32m    694\u001b[39m util.debug(\u001b[33m'\u001b[39m\u001b[33mhelping task handler/workers to finish\u001b[39m\u001b[33m'\u001b[39m)\n\u001b[32m--> \u001b[39m\u001b[32m695\u001b[39m \u001b[38;5;28;43mcls\u001b[39;49m\u001b[43m.\u001b[49m\u001b[43m_help_stuff_finish\u001b[49m\u001b[43m(\u001b[49m\u001b[43minqueue\u001b[49m\u001b[43m,\u001b[49m\u001b[43m \u001b[49m\u001b[43mtask_handler\u001b[49m\u001b[43m,\u001b[49m\u001b[43m \u001b[49m\u001b[38;5;28;43mlen\u001b[39;49m\u001b[43m(\u001b[49m\u001b[43mpool\u001b[49m\u001b[43m)\u001b[49m\u001b[43m)\u001b[49m\n\u001b[32m    697\u001b[39m \u001b[38;5;28;01mif\u001b[39;00m (\u001b[38;5;129;01mnot\u001b[39;00m result_handler.is_alive()) \u001b[38;5;129;01mand\u001b[39;00m (\u001b[38;5;28mlen\u001b[39m(cache) != \u001b[32m0\u001b[39m):\n\u001b[32m    698\u001b[39m     \u001b[38;5;28;01mraise\u001b[39;00m \u001b[38;5;167;01mAssertionError\u001b[39;00m(\n\u001b[32m    699\u001b[39m         \u001b[33m\"\u001b[39m\u001b[33mCannot have cache with result_handler not alive\u001b[39m\u001b[33m\"\u001b[39m)\n",
      "\u001b[36mFile \u001b[39m\u001b[32m/local/python3.13-pip-2025-04-AlgoKS/lib/python3.13/multiprocessing/pool.py:675\u001b[39m, in \u001b[36mPool._help_stuff_finish\u001b[39m\u001b[34m(inqueue, task_handler, size)\u001b[39m\n\u001b[32m    671\u001b[39m \u001b[38;5;129m@staticmethod\u001b[39m\n\u001b[32m    672\u001b[39m \u001b[38;5;28;01mdef\u001b[39;00m\u001b[38;5;250m \u001b[39m\u001b[34m_help_stuff_finish\u001b[39m(inqueue, task_handler, size):\n\u001b[32m    673\u001b[39m     \u001b[38;5;66;03m# task_handler may be blocked trying to put items on inqueue\u001b[39;00m\n\u001b[32m    674\u001b[39m     util.debug(\u001b[33m'\u001b[39m\u001b[33mremoving tasks from inqueue until task handler finished\u001b[39m\u001b[33m'\u001b[39m)\n\u001b[32m--> \u001b[39m\u001b[32m675\u001b[39m     \u001b[43minqueue\u001b[49m\u001b[43m.\u001b[49m\u001b[43m_rlock\u001b[49m\u001b[43m.\u001b[49m\u001b[43macquire\u001b[49m\u001b[43m(\u001b[49m\u001b[43m)\u001b[49m\n\u001b[32m    676\u001b[39m     \u001b[38;5;28;01mwhile\u001b[39;00m task_handler.is_alive() \u001b[38;5;129;01mand\u001b[39;00m inqueue._reader.poll():\n\u001b[32m    677\u001b[39m         inqueue._reader.recv()\n",
      "\u001b[31mKeyboardInterrupt\u001b[39m: "
     ]
    }
   ],
   "source": [
    "from blatt01_tests import jupyter_run_tests\n",
    "\n",
    "# Testsuite ausführen\n",
    "jupyter_run_tests(\"1d\")"
   ]
  },
  {
   "cell_type": "code",
   "execution_count": 5,
   "id": "ca6b6127",
   "metadata": {},
   "outputs": [
    {
     "data": {
      "text/markdown": [
       ":::::{note} Aufgabe 1: Arithmetik Rationaler Zahlen [1.5 / 7 Punkte]\n",
       "\n",
       "::::{hint} [OK] Teilaufgabe c: Euklidischer Algorithmus [1.5 / 1.5 Punkte]\n",
       ":class: dropdown\n",
       "\n",
       ":::{hint} Test 0 - OK\n",
       ":class: dropdown\n",
       "\n",
       "```\n",
       "gcd(5, 3) = 1\n",
       "```\n",
       ":::\n",
       "\n",
       ":::{hint} Test 1 - OK\n",
       ":class: dropdown\n",
       "\n",
       "```\n",
       "gcd(31, 97) = 1\n",
       "```\n",
       ":::\n",
       "\n",
       ":::{hint} Test 2 - OK\n",
       ":class: dropdown\n",
       "\n",
       "```\n",
       "gcd(33, 15) = 3\n",
       "```\n",
       ":::\n",
       "\n",
       ":::{hint} Test 3 - OK\n",
       ":class: dropdown\n",
       "\n",
       "```\n",
       "gcd(49, 77) = 7\n",
       "```\n",
       ":::\n",
       "\n",
       ":::{hint} Test 4 - OK\n",
       ":class: dropdown\n",
       "\n",
       "```\n",
       "gcd(136, 187) = 17\n",
       "```\n",
       ":::\n",
       "\n",
       ":::{hint} Test 5 - OK\n",
       ":class: dropdown\n",
       "\n",
       "```\n",
       "gcd(714, 455) = 7\n",
       "```\n",
       ":::\n",
       "\n",
       ":::{hint} Test 6 - OK\n",
       ":class: dropdown\n",
       "\n",
       "```\n",
       "gcd(1704, 2328) = 24\n",
       "```\n",
       ":::\n",
       "\n",
       ":::{hint} Test 7 - OK\n",
       ":class: dropdown\n",
       "\n",
       "```\n",
       "gcd(279, 144) = 9\n",
       "```\n",
       ":::\n",
       "::::\n",
       ":::::"
      ],
      "text/plain": [
       "<IPython.core.display.Markdown object>"
      ]
     },
     "metadata": {},
     "output_type": "display_data"
    }
   ],
   "source": [
    "from blatt01_tests import jupyter_run_tests\n",
    "\n",
    "# Testsuite ausführen\n",
    "jupyter_run_tests(\"1c\")"
   ]
  },
  {
   "cell_type": "code",
   "execution_count": null,
   "id": "34047dba",
   "metadata": {},
   "outputs": [],
   "source": []
  },
  {
   "cell_type": "markdown",
   "id": "8ec01ee1",
   "metadata": {
    "deletable": false,
    "editable": false
   },
   "source": [
    "## Aufgabe 2 - Matrizen konstruieren mit NumPy"
   ]
  },
  {
   "cell_type": "markdown",
   "id": "a9484c9e",
   "metadata": {
    "deletable": false,
    "editable": false
   },
   "source": [
    "Nutzen Sie die folgenden Zellen und erstellen Sie ggf. weitere, um ihre Implementierungen zu dieser Aufgabe zu testen."
   ]
  },
  {
   "cell_type": "code",
   "execution_count": null,
   "id": "72cf41a6",
   "metadata": {},
   "outputs": [],
   "source": []
  },
  {
   "cell_type": "code",
   "execution_count": null,
   "id": "d307386f",
   "metadata": {},
   "outputs": [],
   "source": []
  },
  {
   "cell_type": "code",
   "execution_count": null,
   "id": "5aa8bc01",
   "metadata": {},
   "outputs": [],
   "source": []
  },
  {
   "cell_type": "markdown",
   "id": "fc50966d",
   "metadata": {
    "deletable": false,
    "editable": false
   },
   "source": [
    "## Aufgabe 3 - Game of Life"
   ]
  },
  {
   "cell_type": "markdown",
   "id": "ae142353",
   "metadata": {
    "deletable": false,
    "editable": false
   },
   "source": [
    "Nutzen Sie die folgenden Zellen und erstellen Sie ggf. weitere, um ihre Implementierungen zu dieser Aufgabe zu testen."
   ]
  },
  {
   "cell_type": "code",
   "execution_count": null,
   "id": "ca0ea0d3",
   "metadata": {},
   "outputs": [],
   "source": []
  },
  {
   "cell_type": "code",
   "execution_count": null,
   "id": "ee46620a",
   "metadata": {},
   "outputs": [],
   "source": []
  },
  {
   "cell_type": "code",
   "execution_count": null,
   "id": "6af95988",
   "metadata": {},
   "outputs": [],
   "source": []
  },
  {
   "cell_type": "markdown",
   "id": "c9d32184",
   "metadata": {
    "deletable": false,
    "editable": false
   },
   "source": [
    "Ist Ihre Implementierung fertig, so können Sie folgenden Zellen nutzen, um den Spielverlauf des Game of Life als Animation zu rendern."
   ]
  },
  {
   "cell_type": "code",
   "execution_count": null,
   "id": "156fcdd3",
   "metadata": {},
   "outputs": [],
   "source": [
    "# Animations-Helfer\n",
    "\n",
    "from gameoflife import next_step\n",
    "import matplotlib.cm as cm\n",
    "import matplotlib.pyplot as plt\n",
    "import matplotlib.animation as animation\n",
    "\n",
    "def animate_gameoflife(grid, steps):\n",
    "    \"\"\"Animates the Game of Life using Matplotlib.\n",
    "\n",
    "    Args:\n",
    "        grid (np.ndarray): The game grid with which the animation starts.\n",
    "    \"\"\"\n",
    "    with plt.ioff():\n",
    "        fig, ax = plt.subplots()\n",
    "        mat = ax.matshow(grid, cmap=cm.gray_r)\n",
    "        ani = animation.FuncAnimation(fig, lambda _: mat.set_data(next_step(grid)),\n",
    "                                      frames=steps,\n",
    "                                      interval=50,\n",
    "                                      blit=False)\n",
    "        return ani"
   ]
  },
  {
   "cell_type": "code",
   "execution_count": null,
   "id": "c5a4a0b0",
   "metadata": {},
   "outputs": [],
   "source": [
    "# Game of Life Animieren\n",
    "\n",
    "from gameoflife import gamegrid, glider, c10orthogonal\n",
    "from IPython.display import HTML\n",
    "\n",
    "# Definition des Gitters und initialer Entitäten\n",
    "grid = gamegrid(\n",
    "    40, 40,\n",
    "    [(glider, 13, 4), (c10orthogonal, 25, 25)]\n",
    ")\n",
    "\n",
    "STEPS = 300  # Zeitschritte, für die das Spiel ausgeführt wird\n",
    "ani = animate_gameoflife(grid, STEPS)\n",
    "HTML(ani.to_jshtml())"
   ]
  }
 ],
 "metadata": {
  "jupytext": {
   "default_lexer": "ipython3"
  },
  "kernelspec": {
   "display_name": "Python 3 (ipykernel)",
   "language": "python",
   "name": "python3"
  },
  "language_info": {
   "codemirror_mode": {
    "name": "ipython",
    "version": 3
   },
   "file_extension": ".py",
   "mimetype": "text/x-python",
   "name": "python",
   "nbconvert_exporter": "python",
   "pygments_lexer": "ipython3",
   "version": "3.13.2"
  }
 },
 "nbformat": 4,
 "nbformat_minor": 5
}
