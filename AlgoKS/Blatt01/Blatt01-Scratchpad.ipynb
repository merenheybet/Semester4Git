{
 "cells": [
  {
   "cell_type": "markdown",
   "id": "70958c36",
   "metadata": {
    "deletable": false,
    "editable": false
   },
   "source": [
    "# Blatt 1 - Scratchpad"
   ]
  },
  {
   "cell_type": "markdown",
   "id": "cb12f3e7",
   "metadata": {
    "deletable": false,
    "editable": false
   },
   "source": [
    "Nutzen Sie dieses Notebook, um ihre Lösungen zu den Aufgaben auf Blatt 1 interaktiv zu entwickeln und zu testen.\n",
    "Denken Sie auch daran, den Debugger zu nutzen, um Fehler zu identifizieren.\n",
    "\n",
    ":::{important}\n",
    "\n",
    "Vergessen Sie nicht, Ihre fertigen Lösungen in das Modul der jeweiligen Aufgabe einzufügen.\n",
    "Dieses Notebook wird nicht mit abgegeben!\n",
    "\n",
    ":::\n",
    "\n",
    "Führen Sie folgende Zelle aus, um `autoreload` zu aktivieren:"
   ]
  },
  {
   "cell_type": "code",
   "execution_count": 1,
   "id": "09084434",
   "metadata": {},
   "outputs": [],
   "source": [
    "%load_ext autoreload\n",
    "%autoreload 2"
   ]
  },
  {
   "cell_type": "markdown",
   "id": "901d4710",
   "metadata": {
    "deletable": false,
    "editable": false
   },
   "source": [
    "## Automatische Testsuite"
   ]
  },
  {
   "cell_type": "markdown",
   "id": "88f4d83b",
   "metadata": {
    "deletable": false,
    "editable": false
   },
   "source": [
    "Wenn Ihre Implementierung fertig ist, können Sie die folgende Zelle ausführen, um die automatischen Tests auszuführen und Feedback zu erhalten.\n",
    "\n",
    "Um nur bestimmte Aufgaben oder Teilaufgaben zu prüfen, übergeben Sie deren IDs (`\"1\"`, `\"2b\"`, ...) an `jupyter_run_tests`; z.B.\n",
    "\n",
    "```{code-block} python\n",
    "jupyter_run_tests(\"1a\", \"1b\", \"2\")\n",
    "```\n",
    "\n",
    ":::{note}\n",
    "Denken Sie daran, dass das Bestehen der öffentlichen Testfälle nicht unbedingt ausreicht,\n",
    "um die Punkte für eine Teilaufgabe zu erhalten - \n",
    "Ihre Implementierung muss dafür auch eine Reihe nicht-öffentlicher Tests bestehen.\n",
    ":::"
   ]
  },
  {
   "cell_type": "code",
   "execution_count": null,
   "id": "3a3ec349",
   "metadata": {},
   "outputs": [],
   "source": [
    "from blatt01_tests import jupyter_run_tests\n",
    "\n",
    "# Testsuite ausführen\n",
    "jupyter_run_tests(\"1a\")"
   ]
  },
  {
   "cell_type": "markdown",
   "id": "636ca2f4",
   "metadata": {
    "deletable": false,
    "editable": false
   },
   "source": [
    "## Aufgabe 1 - Arithmetik Rationaler Zahlen"
   ]
  },
  {
   "cell_type": "markdown",
   "id": "374e6677",
   "metadata": {
    "deletable": false,
    "editable": false
   },
   "source": [
    "Nutzen Sie die folgenden Zellen und erstellen Sie ggf. weitere, um ihre Implementierungen zu dieser Aufgabe zu testen."
   ]
  },
  {
   "cell_type": "code",
   "execution_count": null,
   "id": "53fa11fa",
   "metadata": {},
   "outputs": [],
   "source": []
  },
  {
   "cell_type": "code",
   "execution_count": null,
   "id": "ca6b6127",
   "metadata": {},
   "outputs": [],
   "source": []
  },
  {
   "cell_type": "code",
   "execution_count": null,
   "id": "34047dba",
   "metadata": {},
   "outputs": [],
   "source": []
  },
  {
   "cell_type": "markdown",
   "id": "8ec01ee1",
   "metadata": {
    "deletable": false,
    "editable": false
   },
   "source": [
    "## Aufgabe 2 - Matrizen konstruieren mit NumPy"
   ]
  },
  {
   "cell_type": "markdown",
   "id": "a9484c9e",
   "metadata": {
    "deletable": false,
    "editable": false
   },
   "source": [
    "Nutzen Sie die folgenden Zellen und erstellen Sie ggf. weitere, um ihre Implementierungen zu dieser Aufgabe zu testen."
   ]
  },
  {
   "cell_type": "code",
   "execution_count": null,
   "id": "72cf41a6",
   "metadata": {},
   "outputs": [],
   "source": []
  },
  {
   "cell_type": "code",
   "execution_count": null,
   "id": "d307386f",
   "metadata": {},
   "outputs": [],
   "source": []
  },
  {
   "cell_type": "code",
   "execution_count": null,
   "id": "5aa8bc01",
   "metadata": {},
   "outputs": [],
   "source": []
  },
  {
   "cell_type": "markdown",
   "id": "fc50966d",
   "metadata": {
    "deletable": false,
    "editable": false
   },
   "source": [
    "## Aufgabe 3 - Game of Life"
   ]
  },
  {
   "cell_type": "markdown",
   "id": "ae142353",
   "metadata": {
    "deletable": false,
    "editable": false
   },
   "source": [
    "Nutzen Sie die folgenden Zellen und erstellen Sie ggf. weitere, um ihre Implementierungen zu dieser Aufgabe zu testen."
   ]
  },
  {
   "cell_type": "code",
   "execution_count": null,
   "id": "ca0ea0d3",
   "metadata": {},
   "outputs": [],
   "source": []
  },
  {
   "cell_type": "code",
   "execution_count": null,
   "id": "ee46620a",
   "metadata": {},
   "outputs": [],
   "source": []
  },
  {
   "cell_type": "code",
   "execution_count": null,
   "id": "6af95988",
   "metadata": {},
   "outputs": [],
   "source": []
  },
  {
   "cell_type": "markdown",
   "id": "c9d32184",
   "metadata": {
    "deletable": false,
    "editable": false
   },
   "source": [
    "Ist Ihre Implementierung fertig, so können Sie folgenden Zellen nutzen, um den Spielverlauf des Game of Life als Animation zu rendern."
   ]
  },
  {
   "cell_type": "code",
   "execution_count": null,
   "id": "156fcdd3",
   "metadata": {},
   "outputs": [],
   "source": [
    "# Animations-Helfer\n",
    "\n",
    "from gameoflife import next_step\n",
    "import matplotlib.cm as cm\n",
    "import matplotlib.pyplot as plt\n",
    "import matplotlib.animation as animation\n",
    "\n",
    "def animate_gameoflife(grid, steps):\n",
    "    \"\"\"Animates the Game of Life using Matplotlib.\n",
    "\n",
    "    Args:\n",
    "        grid (np.ndarray): The game grid with which the animation starts.\n",
    "    \"\"\"\n",
    "    with plt.ioff():\n",
    "        fig, ax = plt.subplots()\n",
    "        mat = ax.matshow(grid, cmap=cm.gray_r)\n",
    "        ani = animation.FuncAnimation(fig, lambda _: mat.set_data(next_step(grid)),\n",
    "                                      frames=steps,\n",
    "                                      interval=50,\n",
    "                                      blit=False)\n",
    "        return ani"
   ]
  },
  {
   "cell_type": "code",
   "execution_count": null,
   "id": "c5a4a0b0",
   "metadata": {},
   "outputs": [],
   "source": [
    "# Game of Life Animieren\n",
    "\n",
    "from gameoflife import gamegrid, glider, c10orthogonal\n",
    "from IPython.display import HTML\n",
    "\n",
    "# Definition des Gitters und initialer Entitäten\n",
    "grid = gamegrid(\n",
    "    40, 40,\n",
    "    [(glider, 13, 4), (c10orthogonal, 25, 25)]\n",
    ")\n",
    "\n",
    "STEPS = 300  # Zeitschritte, für die das Spiel ausgeführt wird\n",
    "ani = animate_gameoflife(grid, STEPS)\n",
    "HTML(ani.to_jshtml())"
   ]
  }
 ],
 "metadata": {
  "jupytext": {
   "default_lexer": "ipython3"
  },
  "kernelspec": {
   "display_name": "Python 3 (ipykernel)",
   "language": "python",
   "name": "python3"
  }
 },
 "nbformat": 4,
 "nbformat_minor": 5
}
